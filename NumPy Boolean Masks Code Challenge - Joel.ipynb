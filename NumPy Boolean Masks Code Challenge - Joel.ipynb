{
 "cells": [
  {
   "cell_type": "markdown",
   "metadata": {},
   "source": [
    "# Numpy Boolean Masks Code Challenge\n",
    "\n",
    "### Extracting All Even Values"
   ]
  },
  {
   "cell_type": "markdown",
   "metadata": {},
   "source": [
    "In this practice problem, we want you to extract all even values from a 2-dimensional array. The result should be a 1-dimensional array that contains all even values of the provided 2-dimensional array.\n",
    "\n",
    "x = np.array([\n",
    "    [6, 8, 9, 4, 4], \n",
    "    [8, 1, 5, 3, 10], \n",
    "    [2, 6, 7, 6, 6], \n",
    "    [7, 8, 3, 6, 7], \n",
    "    [10, 7, 7, 5, 2]\n",
    "])"
   ]
  },
  {
   "cell_type": "code",
   "execution_count": 18,
   "metadata": {},
   "outputs": [
    {
     "name": "stdout",
     "output_type": "stream",
     "text": [
      "[ 6  8  4  4  8 10  2  6  6  6  8  6 10  2]\n"
     ]
    }
   ],
   "source": [
    "import numpy as np\n",
    "x = np.array([ [6, 8, 9, 4, 4], [8, 1, 5, 3, 10], [2, 6, 7, 6, 6], [7, 8, 3, 6, 7], [10, 7, 7, 5, 2] ])\n",
    "\n",
    "even_values = x[x%2 == 0]\n",
    "print(even_values)"
   ]
  },
  {
   "cell_type": "markdown",
   "metadata": {},
   "source": [
    "### Extracting All Odd Values\n",
    "\n",
    "In this practice problem, we want you to extract all odd values from a 2-dimensional array. The result should be a 1-dimensional array that contains all even values of the provided 2-dimensional array.\n",
    "\n",
    "x = np.array([\n",
    "    [6, 8, 9, 4, 4], \n",
    "    [8, 1, 5, 3, 10], \n",
    "    [2, 6, 7, 6, 6], \n",
    "    [7, 8, 3, 6, 7], \n",
    "    [10, 7, 7, 5, 2]\n",
    "])"
   ]
  },
  {
   "cell_type": "code",
   "execution_count": 19,
   "metadata": {},
   "outputs": [
    {
     "name": "stdout",
     "output_type": "stream",
     "text": [
      "[9 1 5 3 7 7 3 7 7 7 5]\n"
     ]
    }
   ],
   "source": [
    "odd_values = x[x%2 == 1]\n",
    "print(odd_values)"
   ]
  },
  {
   "cell_type": "markdown",
   "metadata": {},
   "source": [
    "### Extracting Positive Values\n",
    "\n",
    "In this practice problem, we want you to extract all positive values from a 2-dimensional array. The result should be a 1-dimensional array that contains all positive values of the provided 2-dimensional array.\n",
    "\n",
    "x = np.array([\n",
    "    [-6, 8, -9, 4, -4], \n",
    "    [8, -1, 5, 3, 10], \n",
    "    [2, 6, 7, 6, -6], \n",
    "    [7, -8, 3, -6, 7], \n",
    "    [10, -7, 7, -5, 2]\n",
    "])"
   ]
  },
  {
   "cell_type": "code",
   "execution_count": 22,
   "metadata": {},
   "outputs": [
    {
     "name": "stdout",
     "output_type": "stream",
     "text": [
      "[ 8  4  8  5  3 10  2  6  7  6  7  3  7 10  7  2]\n"
     ]
    }
   ],
   "source": [
    "x = np.array([ [-6, 8, -9, 4, -4], [8, -1, 5, 3, 10], [2, 6, 7, 6, -6], [7, -8, 3, -6, 7], [10, -7, 7, -5, 2] ])\n",
    "positive_values = x[x > 0]\n",
    "print(positive_values)"
   ]
  },
  {
   "cell_type": "markdown",
   "metadata": {},
   "source": [
    "### Extracting Negative Values\n",
    "\n",
    "In this practice problem, we want you to extract all negative values from a 2-dimensional array. The result should be a 1-dimensional array that contains all negative values of the provided 2-dimensional array. \n",
    "\n",
    "x = np.array([\n",
    "    [-6, 8, -9, 4, -4], \n",
    "    [8, -1, 5, 3, 10], \n",
    "    [2, 6, 7, 6, -6], \n",
    "    [7, -8, 3, -6, 7], \n",
    "    [10, -7, 7, -5, 2]\n",
    "])"
   ]
  },
  {
   "cell_type": "code",
   "execution_count": 25,
   "metadata": {},
   "outputs": [
    {
     "name": "stdout",
     "output_type": "stream",
     "text": [
      "[-6 -9 -4 -1 -6 -8 -6 -7 -5]\n"
     ]
    },
    {
     "data": {
      "text/plain": [
       "9"
      ]
     },
     "execution_count": 25,
     "metadata": {},
     "output_type": "execute_result"
    }
   ],
   "source": [
    "negative_values = x[x < 0]\n",
    "print(negative_values)"
   ]
  },
  {
   "cell_type": "markdown",
   "metadata": {},
   "source": [
    "### Counting Values\n",
    "\n",
    "In this practice problem, we want you to write a count_values() function given an ndarray, returns how many negative, zero, and positive values it contains.\n",
    "\n",
    "Example:\n",
    "\n",
    "x = np.array([\n",
    "    [2, 0, -1, 3],\n",
    "    [-5, 1, 0, 4],\n",
    "    [7, 0, 0, -1]\n",
    "])\n",
    "print(count_values(x))\n",
    "\n",
    "Result:\n",
    "\n",
    "(3, 4, 5)\n",
    "\n",
    "The 3 indicates the number of negative values, the 4 indicates the number of zeros, and the 5 indicates the number of positive values. The value counts should be returned in this order\n",
    "\n",
    "##### Testing Code\n",
    "#x = np.array([[2, 0, -1, 3], [-5, 1, 0, 4], [7, 0, 0, -1]])\n",
    "#print(count_values(x))"
   ]
  },
  {
   "cell_type": "code",
   "execution_count": 27,
   "metadata": {},
   "outputs": [
    {
     "name": "stdout",
     "output_type": "stream",
     "text": [
      "(3, 4, 5)\n"
     ]
    }
   ],
   "source": [
    "def count_values(x):\n",
    "    '''\n",
    "    Counts the number of negative, zero and positive values contained in a given array\n",
    "    Returns (neg, zero,pos) where neg = number of negative values, zero = number of zeros and pos = number of positive values\n",
    "    \n",
    "    Keyword arguments\n",
    "    x -- an ndarray\n",
    "    '''\n",
    "    neg = len(x[x < 0])\n",
    "    zero = len(x[x == 0])\n",
    "    pos = len(x[x > 0])\n",
    "    \n",
    "    return (neg, zero, pos)\n",
    "\n",
    "\n",
    "x = np.array([[2, 0, -1, 3], [-5, 1, 0, 4], [7, 0, 0, -1]])\n",
    "print(count_values(x))\n",
    "    "
   ]
  },
  {
   "cell_type": "markdown",
   "metadata": {},
   "source": [
    "### Selecting Rows by Sum\n",
    "\n",
    "In this practice problem, we want you to select all rows from a given 2-dimensional array whose sum is larger than 30.\n",
    "\n",
    "x = np.array([\n",
    "    [6, 8, 9, 4, 4], \n",
    "    [8, 1, 5, 3, 10], \n",
    "    [2, 6, 7, 6, 6], \n",
    "    [7, 8, 3, 6, 7], \n",
    "    [10, 7, 7, 5, 2]\n",
    "])"
   ]
  },
  {
   "cell_type": "code",
   "execution_count": 47,
   "metadata": {},
   "outputs": [
    {
     "name": "stdout",
     "output_type": "stream",
     "text": [
      "[6 8 9 4 4]\n",
      "[7 8 3 6 7]\n",
      "[10  7  7  5  2]\n"
     ]
    }
   ],
   "source": [
    "x = np.array([ [6, 8, 9, 4, 4], [8, 1, 5, 3, 10], [2, 6, 7, 6, 6], [7, 8, 3, 6, 7], [10, 7, 7, 5, 2] ])\n",
    "\n",
    "for i in x:\n",
    "    if sum(i) > 30:\n",
    "        print(i)"
   ]
  },
  {
   "cell_type": "markdown",
   "metadata": {},
   "source": [
    "### Selecting Columns by Sum\n",
    "\n",
    "In this practice problem, we want you to select all columns from a given 2-dimensional array whose sum is larger than 30.\n",
    "\n",
    "x = np.array([\n",
    "    [6, 8, 9, 4, 4], \n",
    "    [8, 1, 5, 3, 10], \n",
    "    [2, 6, 7, 6, 6], \n",
    "    [7, 8, 3, 6, 7], \n",
    "    [10, 7, 7, 5, 2]\n",
    "])"
   ]
  },
  {
   "cell_type": "code",
   "execution_count": 81,
   "metadata": {},
   "outputs": [
    {
     "name": "stdout",
     "output_type": "stream",
     "text": [
      "[[ 6  9]\n",
      " [ 8  5]\n",
      " [ 2  7]\n",
      " [ 7  3]\n",
      " [10  7]]\n"
     ]
    },
    {
     "data": {
      "text/plain": [
       "array([ 4, 10,  6,  7,  2])"
      ]
     },
     "execution_count": 81,
     "metadata": {},
     "output_type": "execute_result"
    }
   ],
   "source": [
    "a = x.shape[1] #The total number of columns\n",
    "indexes = []\n",
    "for i in range(a):\n",
    "    if sum(x[:, i]) > 30:\n",
    "        indexes.append(i)\n",
    "    arr = x[:, indexes]\n",
    "\n",
    "print(arr)"
   ]
  },
  {
   "cell_type": "markdown",
   "metadata": {},
   "source": [
    "## Selecting Perfect Squares\n",
    "\n",
    "In mathematics, a perfect square is an integer number that is equal to the product of some other integer multiplied by itself.\n",
    "For example, 25 is a perfect square because it is equal to 5 × 5. Another example is 100 since it is equal to 10 × 10.\n",
    "In this practice problem, we provide you with a 1-dimensional array and want you to use a boolean mask to select all the perfect squares it contains.\n",
    "\n",
    "Depending on your solution, you might find the numpy.sqrt() function useful. It calculates the square roots of values in an ndarray.\n",
    "\n",
    "x = np.array([865, 395, 777, 912, 431, 42, 266, 989, 524, 498, 415, 941, 803, 850, 311, 992, 489, 367, 598, 914, 930, 224, 517, 143, 289, 144, 774, 98, 634, 819, 257, 932, 546, 723, 830, 617, 924, 151, 318, 102, 748, 76, 921, 871, 701, 339, 484, 574, 104, 363, 445, 324, 626, 656, 935, 210, 990, 566, 489, 454, 887, 534, 267, 64, 825, 941, 562, 938, 15, 96, 737, 861, 409, 728, 845, 804, 685, 641, 2, 627, 506, 848, 889, 342, 250, 748, 334, 721, 892, 65, 196, 940, 582, 228, 245, 823, 991, 146, 823, 557])"
   ]
  },
  {
   "cell_type": "code",
   "execution_count": 111,
   "metadata": {},
   "outputs": [
    {
     "name": "stdout",
     "output_type": "stream",
     "text": [
      "[289 144 484 324  64 196]\n"
     ]
    }
   ],
   "source": [
    "x = np.array([865, 395, 777, 912, 431, 42, 266, 989, 524, 498, 415, 941, 803, 850, 311, 992, 489, 367, 598, 914, 930, 224, 517, 143, 289, 144, 774, 98, 634, 819, 257, 932, 546, 723, 830, 617, 924, 151, 318, 102, 748, 76, 921, 871, 701, 339, 484, 574, 104, 363, 445, 324, 626, 656, 935, 210, 990, 566, 489, 454, 887, 534, 267, 64, 825, 941, 562, 938, 15, 96, 737, 861, 409, 728, 845, 804, 685, 641, 2, 627, 506, 848, 889, 342, 250, 748, 334, 721, 892, 65, 196, 940, 582, 228, 245, 823, 991, 146, 823, 557])\n",
    "sqrt_x = np.sqrt(x)\n",
    "sqrt_x_int = sqrt_x.astype(int)\n",
    "perfect_squares = x[(sqrt_x_int * sqrt_x_int) == x]\n",
    "\n",
    "print(perfect_squares)"
   ]
  },
  {
   "cell_type": "markdown",
   "metadata": {},
   "source": [
    "### Finding Rows without zeros\n",
    "\n",
    "In this practice problem, we provide you with a 2-dimensional array and we want you to extract all rows that do not contain any zero in them.\n",
    "\n",
    "You might find the numpy.count_nonzero() function useful. This function also provides the axis keyword argument so that we can use it to calculate the number of zeros in each row or column.\n",
    "\n",
    "x = np.array([\n",
    "    [6, 8, 90, 0, 4], \n",
    "    [8, 0, 5, 3, 10], \n",
    "    [2, 6, 10, 6, 6], \n",
    "    [10, 8, 3, 6, 7], \n",
    "    [10, 7, 7, 0, 2]\n",
    "])"
   ]
  },
  {
   "cell_type": "code",
   "execution_count": 162,
   "metadata": {},
   "outputs": [
    {
     "name": "stdout",
     "output_type": "stream",
     "text": [
      "[[ 6  8 90  0  4]\n",
      " [ 8  0  5  3 10]\n",
      " [ 2  6 10  6  6]\n",
      " [10  8  3  6  7]\n",
      " [10  7  7  0  2]]\n",
      "[[ 2  6 10  6  6]\n",
      " [10  8  3  6  7]]\n"
     ]
    }
   ],
   "source": [
    "x = np.array([ [6, 8, 90, 0, 4], [8, 0, 5, 3, 10], [2, 6, 10, 6, 6], [10, 8, 3, 6, 7], [10, 7, 7, 0, 2] ])\n",
    "print(x)\n",
    "\n",
    "nonzero_counts = np.count_nonzero(x, axis = 1)\n",
    "nonzero_rows = x[nonzero_counts == x.shape[1]]\n",
    "print(nonzero_rows)"
   ]
  },
  {
   "cell_type": "markdown",
   "metadata": {},
   "source": [
    "### Finding Rows with zeros\n",
    "\n",
    "In this practice problem, we provide you with a 2-dimensional array and we want you to extract all rows that contain at least one zero.\n",
    "\n",
    "x = np.array([\n",
    "    [6, 8, 90, 0, 4], \n",
    "    [8, 0, 5, 3, 10], \n",
    "    [2, 6, 10, 6, 6], \n",
    "    [10, 8, 3, 6, 7], \n",
    "    [10, 7, 7, 0, 2]\n",
    "])"
   ]
  },
  {
   "cell_type": "code",
   "execution_count": 161,
   "metadata": {},
   "outputs": [
    {
     "name": "stdout",
     "output_type": "stream",
     "text": [
      "[[ 6  8 90  0  4]\n",
      " [ 8  0  5  3 10]\n",
      " [10  7  7  0  2]]\n"
     ]
    }
   ],
   "source": [
    "nonzero_counts = np.count_nonzero(x, axis = 1)\n",
    "zero_rows = x[nonzero_counts != x.shape[1]]\n",
    "print(zero_rows)"
   ]
  },
  {
   "cell_type": "markdown",
   "metadata": {},
   "source": [
    "### Finding Columns without zeros\n",
    "\n",
    "In this practice problem, we provide you with a 2-dimensional array and we want you to extract all columns that do not contain any zero on them.\n",
    "\n",
    "x = np.array([\n",
    "    [6, 8, 90, 0, 4], \n",
    "    [8, 0, 5, 3, 10], \n",
    "    [2, 6, 10, 6, 6], \n",
    "    [10, 8, 3, 6, 7], \n",
    "    [10, 7, 7, 0, 2]\n",
    "])"
   ]
  },
  {
   "cell_type": "code",
   "execution_count": 160,
   "metadata": {},
   "outputs": [
    {
     "name": "stdout",
     "output_type": "stream",
     "text": [
      "[[ 6  8 90  0  4]\n",
      " [ 8  0  5  3 10]\n",
      " [ 2  6 10  6  6]\n",
      " [10  8  3  6  7]\n",
      " [10  7  7  0  2]]\n",
      "[[ 6 90  4]\n",
      " [ 8  5 10]\n",
      " [ 2 10  6]\n",
      " [10  3  7]\n",
      " [10  7  2]]\n"
     ]
    }
   ],
   "source": [
    "print(x)\n",
    "nonzero_counts = np.count_nonzero(x, axis = 0)\n",
    "nonzero_columns = x[:, (nonzero_counts == x.shape[0]).tolist()]\n",
    "print(nonzero_columns)"
   ]
  },
  {
   "cell_type": "markdown",
   "metadata": {},
   "source": [
    "### Finding Columns with zeros\n",
    "\n",
    "In this practice problem, we provide you with a 2-dimensional array and we want you to extract all columns that contain at least one zero.\n",
    "\n",
    "x = np.array([\n",
    "    [6, 8, 90, 0, 4], \n",
    "    [8, 0, 5, 3, 10], \n",
    "    [2, 6, 10, 6, 6], \n",
    "    [10, 8, 3, 6, 7], \n",
    "    [10, 7, 7, 0, 2]\n",
    "])"
   ]
  },
  {
   "cell_type": "code",
   "execution_count": 159,
   "metadata": {},
   "outputs": [
    {
     "name": "stdout",
     "output_type": "stream",
     "text": [
      "[[ 6  8 90  0  4]\n",
      " [ 8  0  5  3 10]\n",
      " [ 2  6 10  6  6]\n",
      " [10  8  3  6  7]\n",
      " [10  7  7  0  2]]\n",
      "[[8 0]\n",
      " [0 3]\n",
      " [6 6]\n",
      " [8 6]\n",
      " [7 0]]\n",
      "[5 4 5 3 5]\n"
     ]
    }
   ],
   "source": [
    "print(x)\n",
    "nonzero_counts = np.count_nonzero(x, axis = 0)\n",
    "zero_columns = x[:, (nonzero_counts != x.shape[0]).tolist()]\n",
    "print(zero_columns)\n",
    "\n",
    "print(nonzero_counts)"
   ]
  },
  {
   "cell_type": "markdown",
   "metadata": {},
   "source": [
    "### Finding Perfect Grades\n",
    "\n",
    "In this practice problem, we want you to write a function has_perfect_score() that given a 1-dimensional ndarray representing student grades between 0 and 100 (inclusive), returns whether any student had a grade equal to 100.\n",
    "\n",
    "Example:\n",
    "\n",
    "x = np.array([75, 67, 95, 100])\n",
    "print(has_perfect_score(x))\n",
    "\n",
    "Result:\n",
    "\n",
    "True\n",
    "\n",
    "Example:\n",
    "\n",
    "x = np.array([75, 67, 95, 99])\n",
    "print(has_perfect_score(x))\n",
    "\n",
    "Result:\n",
    "\n",
    "False\n",
    "\n",
    "##### Testing Code\n",
    "#x = np.array([75, 67, 95, 100])\n",
    "#print(has_perfect_score(x))\n",
    "\n",
    "#x = np.array([75, 67, 95, 99])\n",
    "#print(has_perfect_score(x))"
   ]
  },
  {
   "cell_type": "code",
   "execution_count": 176,
   "metadata": {},
   "outputs": [
    {
     "name": "stdout",
     "output_type": "stream",
     "text": [
      "True\n",
      "False\n"
     ]
    }
   ],
   "source": [
    "def has_perfect_score(x):\n",
    "    '''\n",
    "    Iterates through an 1-dimensional ndarray and and returns whether any student had a grade equal to 100\n",
    "\n",
    "    Parameters\n",
    "    x -- a 1-dimensional ndarray representing student grades between 0 and 100 (inclusive)\n",
    "    '''\n",
    "    return np.any(x == 100)\n",
    "\n",
    "x = np.array([75, 67, 95, 100])\n",
    "print(has_perfect_score(x))\n",
    "x = np.array([75, 67, 95, 99])\n",
    "print(has_perfect_score(x))"
   ]
  },
  {
   "cell_type": "markdown",
   "metadata": {},
   "source": [
    "### Did Everyone Pass?\n",
    "\n",
    "In this practice problem, we want you to write a function all_passed() that given a 1-dimensional ndarray representing student grades between 0 and 100 (inclusive), returns whether all students had a score of at least 50 or not.\n",
    "\n",
    "Example:\n",
    "\n",
    "x = np.array([75, 67, 95, 100])\n",
    "print(all_passed(x))\n",
    "\n",
    "Result:\n",
    "\n",
    "True\n",
    "\n",
    "In this case the answer is True because each score is greater than or equal to 50\n",
    "\n",
    "Example:\n",
    "\n",
    "x = np.array([75, 67, 45, 99])\n",
    "print(all_passed(x))\n",
    "\n",
    "Result:\n",
    "\n",
    "False\n",
    "\n",
    "In this case the answer is False because there is at least one score that is lower than 50.\n",
    "\n",
    "##### Testing Code\n",
    "#x = np.array([75, 67, 95, 100])\n",
    "#print(all_passed(x))\n",
    "\n",
    "#x = np.array([75, 67, 45, 99])\n",
    "#print(all_passed(x))"
   ]
  },
  {
   "cell_type": "code",
   "execution_count": 177,
   "metadata": {},
   "outputs": [
    {
     "name": "stdout",
     "output_type": "stream",
     "text": [
      "True\n",
      "False\n"
     ]
    }
   ],
   "source": [
    "def all_passed(x):\n",
    "    '''\n",
    "    Iterates through an 1-dimensional ndarray and and returns whether any student had a score of at least\n",
    "    50 or not\n",
    "\n",
    "    Parameters\n",
    "    x -- a 1-dimensional ndarray representing student grades between 0 and 100 (inclusive)\n",
    "    '''\n",
    "    return np.all(x >= 50)\n",
    "\n",
    "x = np.array([75, 67, 95, 100])\n",
    "print(all_passed(x))\n",
    "x = np.array([75, 67, 45, 99])\n",
    "print(all_passed(x))"
   ]
  },
  {
   "cell_type": "markdown",
   "metadata": {},
   "source": [
    "### Grade Categories\n",
    "\n",
    "In this practice problem, we want you to write a function grade_category_count() that given a 1-dimensional ndarray representing student grades between 0 and 100 (inclusive), returns a dictionary that counts how many grades fall in each category.\n",
    "The categories are letters A to F. For this problem, we use a simplification of the grade categories used in the USA.\n",
    "\n",
    "| Category | Grade Range |\n",
    "|----------|-------------|\n",
    "| A        | 90 to 100   |\n",
    "| B        | 80 to 89    |\n",
    "| C        | 70 to 79    |\n",
    "| D        | 65 to 69    |\n",
    "| E        | 50 to 64    |\n",
    "| F        | 0 to 49     |\n",
    "\n",
    "Example:\n",
    "\n",
    "x = np.array([75, 67, 95, 100])\n",
    "print(grade_category_count(x))\n",
    "\n",
    "Result:\n",
    "\n",
    "{'A': 2, 'B': 0, 'C': 1, 'D': 1, 'E': 0, 'F': 0}\n",
    "\n",
    "Example:\n",
    "\n",
    "x = np.array([0, 49, 50, 64, 65, 69, 70, 79, 80, 89, 90, 100])\n",
    "print(grade_category_count(x))\n",
    "\n",
    "Result:\n",
    "\n",
    "{'A': 2, 'B': 2, 'C': 2, 'D': 2, 'E': 2, 'F': 2}\n",
    "\n",
    "##### Testing Code\n",
    "#x = np.array([75, 67, 95, 100])\n",
    "#print(grade_category_count(x))\n",
    "\n",
    "#x = np.array([0, 49, 50, 64, 65, 69, 70, 79, 80, 89, 90, 100])\n",
    "#print(grade_category_count(x))"
   ]
  },
  {
   "cell_type": "code",
   "execution_count": 201,
   "metadata": {},
   "outputs": [
    {
     "name": "stdout",
     "output_type": "stream",
     "text": [
      "{'A': 2, 'B': 2, 'C': 2, 'D': 2, 'E': 2, 'F': 2}\n"
     ]
    }
   ],
   "source": [
    "def grade_category_count(x):\n",
    "    '''\n",
    "    Returns a dictionary that counts how many grades fall in each grade category as used in the USA\n",
    "    \n",
    "    Parameters\n",
    "    x -- a 1-dimensional nd array representing student grades between 0 and 100 (inclusive)\n",
    "    '''\n",
    "    grade_cat = {'A': 0, 'B': 0, 'C': 0, 'D': 0, 'E': 0, 'F': 0}\n",
    "    for i in x:\n",
    "        if 90 <= i <= 100:\n",
    "            grade_cat['A'] += 1\n",
    "        elif 80 <= i <= 89:\n",
    "            grade_cat['B'] += 1\n",
    "        elif 70 <= i <= 79:\n",
    "            grade_cat['C'] += 1\n",
    "        elif 65 <= i <= 69:\n",
    "            grade_cat['D'] += 1\n",
    "        elif 50 <= i <= 64:\n",
    "            grade_cat['E'] += 1\n",
    "        elif 0 <= i <= 49:\n",
    "            grade_cat['F'] += 1\n",
    "            \n",
    "    return grade_cat\n",
    "\n",
    "x = np.array([0, 49, 50, 64, 65, 69, 70, 79, 80, 89, 90, 100])\n",
    "print(grade_category_count(x))"
   ]
  },
  {
   "cell_type": "markdown",
   "metadata": {},
   "source": [
    "### Multiplying By Two\n",
    "\n",
    "In this practice problem, we provide you with a 2-dimensional array and we want you to multiply each value that is smaller than 100 by 2.\n",
    "\n",
    "x = np.array([\n",
    "    [111, 48, 145, 196, 26], \n",
    "    [92, 122, 78, 157, 66], \n",
    "    [112, 173, 46, 110, 192], \n",
    "    [23, 58, 39, 186, 165], \n",
    "    [30, 67, 159, 11, 197], \n",
    "    [163, 180, 147, 103, 11], \n",
    "    [61, 6, 51, 73, 45]\n",
    "])"
   ]
  },
  {
   "cell_type": "code",
   "execution_count": 217,
   "metadata": {},
   "outputs": [
    {
     "name": "stdout",
     "output_type": "stream",
     "text": [
      "[[111  48 145 196  26]\n",
      " [ 92 122  78 157  66]\n",
      " [112 173  46 110 192]\n",
      " [ 23  58  39 186 165]\n",
      " [ 30  67 159  11 197]\n",
      " [163 180 147 103  11]\n",
      " [ 61   6  51  73  45]]\n",
      "[[111  96 145 196  52]\n",
      " [184 122 156 157 132]\n",
      " [112 173  92 110 192]\n",
      " [ 46 116  78 186 165]\n",
      " [ 60 134 159  22 197]\n",
      " [163 180 147 103  22]\n",
      " [122  12 102 146  90]]\n"
     ]
    }
   ],
   "source": [
    "x = np.array([ [111, 48, 145, 196, 26], [92, 122, 78, 157, 66], [112, 173, 46, 110, 192], [23, 58, 39, 186, 165], [30, 67, 159, 11, 197], [163, 180, 147, 103, 11], [61, 6, 51, 73, 45] ])\n",
    "print(x)\n",
    "\n",
    "x[x <= 100] = x[x <= 100] * 2\n",
    "\n",
    "print(x)"
   ]
  },
  {
   "cell_type": "markdown",
   "metadata": {},
   "source": [
    "### Making It Even\n",
    "\n",
    "In this practice problem, we provide you with a 2-dimensional array and we want you to turn every entry into an even number. To do so, entries that are already even should remain the same and you should increment by one each of the odd entry.\n",
    "\n",
    "x = np.array([\n",
    "    [111, 48, 145, 196, 26], \n",
    "    [92, 122, 78, 157, 66], \n",
    "    [112, 173, 46, 110, 192], \n",
    "    [23, 58, 39, 186, 165], \n",
    "    [30, 67, 159, 11, 197], \n",
    "    [163, 180, 147, 103, 11], \n",
    "    [61, 6, 51, 73, 45]\n",
    "])"
   ]
  },
  {
   "cell_type": "code",
   "execution_count": 224,
   "metadata": {},
   "outputs": [
    {
     "name": "stdout",
     "output_type": "stream",
     "text": [
      "[[112  48 146 196  26]\n",
      " [ 92 122  78 158  66]\n",
      " [112 174  46 110 192]\n",
      " [ 24  58  40 186 166]\n",
      " [ 30  68 160  12 198]\n",
      " [164 180 148 104  12]\n",
      " [ 62   6  52  74  46]]\n"
     ]
    }
   ],
   "source": [
    "x = np.array([ [111, 48, 145, 196, 26], [92, 122, 78, 157, 66], [112, 173, 46, 110, 192], [23, 58, 39, 186, 165], [30, 67, 159, 11, 197], [163, 180, 147, 103, 11], [61, 6, 51, 73, 45] ])\n",
    "\n",
    "x[x%2 == 1] = x[x%2 == 1] + 1\n",
    "\n",
    "print(x)"
   ]
  },
  {
   "cell_type": "markdown",
   "metadata": {},
   "source": [
    "### Partitioning By Index\n",
    "\n",
    "In this practice problem, we want you to write a partition() function given a 1-dimensional array x and an index i returns two 1-dimensional arrays. The first one should contain the values of x that are smaller than or equal to x[i]. The second one should contain the values of x that are bigger than x[i].\n",
    "\n",
    "Example:\n",
    "\n",
    "x = np.array([5, 4, 3, 1, 2, 6])\n",
    "print(partition(x, 1))\n",
    "\n",
    "Result:\n",
    "\n",
    "(array([4, 3, 1, 2]), array([5, 6]))\n",
    "\n",
    "In the above example, we use index i = 1. Since x[1] is 4, the first ndarray contains the values that are less than or equal to 4 while the second ndarray contains the values that are bigger than 4. \n",
    "\n",
    "##### Testing Code\n",
    "#x = np.array([5, 4, 3, 1, 2, 6])\n",
    "#print(partition(x, 1))"
   ]
  },
  {
   "cell_type": "code",
   "execution_count": 232,
   "metadata": {},
   "outputs": [
    {
     "name": "stdout",
     "output_type": "stream",
     "text": [
      "(array([4, 3, 1, 2]), array([5, 6]))\n"
     ]
    }
   ],
   "source": [
    "def partition(x, i):\n",
    "    '''\n",
    "    Returns two 1-dimensional arrays; first is formed by the values of array x that are smaller than or \n",
    "    equal to x[i] and second formed by the values of x that are bigger than x[i]\n",
    "\n",
    "    Parameters\n",
    "    x -- a 1-dimensional array\n",
    "    i -- an integer representing the index specified in the function where the partitioning is evaluated\n",
    "    '''\n",
    "    array_1 = x[x <= x[i]]\n",
    "    array_2 = x[x > x[i]]\n",
    "    return array_1, array_2 \n",
    "\n",
    "x = np.array([5, 4, 3, 1, 2, 6])\n",
    "\n",
    "print(partition(x, 1))"
   ]
  },
  {
   "cell_type": "markdown",
   "metadata": {},
   "source": [
    "### Partitioning By Median\n",
    "\n",
    "In this practice problem, we want you to write a partition_by_median() function given a 1-dimensional array x and returns two 1-dimensional arrays. The first one should contain the values of x that are smaller than or equal to the median of x. The second one should contain the values of x that are bigger than the median of x.\n",
    "\n",
    "Example:\n",
    "\n",
    "x = np.array([5, 4, 3, 1, 2, 6])\n",
    "print(partition_by_median(x))\n",
    "\n",
    "Result:\n",
    "\n",
    "(array([3, 1, 2]), array([5, 4, 6]))\n",
    "\n",
    "In the above example, the media is equal to 3.5.\n",
    "\n",
    "##### Testing Code\n",
    "#x = np.array([5, 4, 3, 1, 2, 6])\n",
    "#print(partition_by_median(x))"
   ]
  },
  {
   "cell_type": "code",
   "execution_count": 235,
   "metadata": {},
   "outputs": [
    {
     "name": "stdout",
     "output_type": "stream",
     "text": [
      "(array([3, 1, 2]), array([5, 4, 6]))\n"
     ]
    }
   ],
   "source": [
    "def partition_by_median(x):\n",
    "    '''\n",
    "    Returns two 1-dimensional arrays; first is formed by the values of array x that are smaller than or \n",
    "    equal to the median and second formed by the values of x that are bigger than the median\n",
    "\n",
    "    Parameters\n",
    "    x -- a 1-dimensional array\n",
    "    '''\n",
    "    array_1 = x[x <= np.median(x)]\n",
    "    array_2 = x[x > np.median(x)]\n",
    "    return array_1, array_2 \n",
    "\n",
    "x = np.array([5, 4, 3, 1, 2, 6])\n",
    "print(partition_by_median(x))"
   ]
  },
  {
   "cell_type": "markdown",
   "metadata": {},
   "source": [
    "### Removing Non-Integer Values\n",
    "\n",
    "In this practice problem, we provide you with a 1-dimensional array and we want you to remove all of its values that are not whole numbers.\n",
    "\n",
    "x = np.array([69, 11, 90.49457494755877, 24, 41.54767580801889, 20.12965860001413, 91, 8.907758419177767, 29.20435557818945, 8, 45.18320647101104, 62, 16.968544743478553, 40, 51, 68, 55.20359682954337, 62, 50.42464165922171, 87.27047049165729, 85, 55.52435761508429, 17, 12, 74, 87.07403786258838, 15, 45.609731039236806, 92, 76, 21, 63.8621099409078, 69.59406746317076, 72.80028174630625, 85.05847290039019, 28.358592338847522, 17.45367343314122, 2.153572543427297, 55, 44.357813470302936, 32.05250226743463, 58, 29.824086847791452, 37.91413490742849, 40.623640765035375, 56.51534195174339, 15, 47.739633378954096, 18.538416505563532, 59.81627771902749])"
   ]
  },
  {
   "cell_type": "code",
   "execution_count": 315,
   "metadata": {},
   "outputs": [
    {
     "name": "stdout",
     "output_type": "stream",
     "text": [
      "[69. 11. 24. 91.  8. 62. 40. 51. 68. 62. 85. 17. 12. 74. 15. 92. 76. 21.\n",
      " 55. 58. 15.]\n"
     ]
    }
   ],
   "source": [
    "x = np.array([69, 11, 90.49457494755877, 24, 41.54767580801889, 20.12965860001413, 91, 8.907758419177767, 29.20435557818945, 8, 45.18320647101104, 62, 16.968544743478553, 40, 51, 68, 55.20359682954337, 62, 50.42464165922171, 87.27047049165729, 85, 55.52435761508429, 17, 12, 74, 87.07403786258838, 15, 45.609731039236806, 92, 76, 21, 63.8621099409078, 69.59406746317076, 72.80028174630625, 85.05847290039019, 28.358592338847522, 17.45367343314122, 2.153572543427297, 55, 44.357813470302936, 32.05250226743463, 58, 29.824086847791452, 37.91413490742849, 40.623640765035375, 56.51534195174339, 15, 47.739633378954096, 18.538416505563532, 59.81627771902749])\n",
    "\n",
    "#Square the elements in x\n",
    "x_sq = x * x\n",
    "#print(x_sq)\n",
    "\n",
    "#Convert elements in x to integers\n",
    "int_x = x.astype(int)\n",
    "\n",
    "#Square the elements in integered x\n",
    "int_x_sq = int_x * int_x\n",
    "#print(int_x_sq)\n",
    "\n",
    "#Extract whole numbers\n",
    "print(x[x_sq == int_x_sq])"
   ]
  },
  {
   "cell_type": "markdown",
   "metadata": {},
   "source": [
    "### Exclusive OR\n",
    "\n",
    "In this practice problem, we provide you with a 2-dimensional array with two columns. We want you to retrieve all rows so that exactly one of these conditions is true:\n",
    "\n",
    "The value in the first column is smaller than 100\n",
    "\n",
    "The value in the second column is bigger than 100\n",
    "\n",
    "x = np.array([[118, 90], [50, 6], [149, 162], [160, 36], [55, 197], [188, 85], [194, 25], [1, 95], [84, 116], [198, 92], [56, 148], [37, 145], [78, 193], [47, 8], [3, 108], [23, 69], [44, 47], [70, 57], [54, 50], [20, 78]])"
   ]
  },
  {
   "cell_type": "code",
   "execution_count": 314,
   "metadata": {},
   "outputs": [
    {
     "name": "stdout",
     "output_type": "stream",
     "text": [
      "[[ 50   6]\n",
      " [149 162]\n",
      " [  1  95]\n",
      " [ 47   8]\n",
      " [ 23  69]\n",
      " [ 44  47]\n",
      " [ 70  57]\n",
      " [ 54  50]\n",
      " [ 20  78]]\n"
     ]
    }
   ],
   "source": [
    "x = np.array([[118, 90], [50, 6], [149, 162], [160, 36], [55, 197], [188, 85], [194, 25], [1, 95], [84, 116], [198, 92], [56, 148], [37, 145], [78, 193], [47, 8], [3, 108], [23, 69], [44, 47], [70, 57], [54, 50], [20, 78]])\n",
    "\n",
    "#Finding indexes in first and second column that evaluates true for the conditions\n",
    "first_col = np.where(x[:, 0] < 100)[0].tolist()\n",
    "second_col = np.where(x[:, 1] > 100)[0].tolist()\n",
    "\n",
    "union = set(first_col).union(second_col)\n",
    "intersect = set.intersection(set(first_col), set(second_col))\n",
    "row_indexes = list(union.difference(intersect))\n",
    "print(x[row_indexes])"
   ]
  },
  {
   "cell_type": "code",
   "execution_count": null,
   "metadata": {},
   "outputs": [],
   "source": []
  }
 ],
 "metadata": {
  "kernelspec": {
   "display_name": "Python 3",
   "language": "python",
   "name": "python3"
  },
  "language_info": {
   "codemirror_mode": {
    "name": "ipython",
    "version": 3
   },
   "file_extension": ".py",
   "mimetype": "text/x-python",
   "name": "python",
   "nbconvert_exporter": "python",
   "pygments_lexer": "ipython3",
   "version": "3.8.3"
  }
 },
 "nbformat": 4,
 "nbformat_minor": 4
}
