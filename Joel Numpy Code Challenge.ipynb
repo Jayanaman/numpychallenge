{
 "cells": [
  {
   "cell_type": "markdown",
   "metadata": {},
   "source": [
    "# Numpy Code Challenge\n",
    "\n",
    "### Selecting Even Indices"
   ]
  },
  {
   "cell_type": "markdown",
   "metadata": {},
   "source": [
    "In this practice challenge, we ask you to create an ndarray from a given list and select the values located at even indexes.\n",
    "\n",
    "values = [7, 4, 5, 8, 9, 0, 1, 3, 2, 6]"
   ]
  },
  {
   "cell_type": "code",
   "execution_count": 2,
   "metadata": {},
   "outputs": [
    {
     "name": "stdout",
     "output_type": "stream",
     "text": [
      "[7 4 5 8 9 0 1 3 2 6]\n"
     ]
    }
   ],
   "source": [
    "import numpy as np\n",
    "values = [7, 4, 5, 8, 9, 0, 1, 3, 2, 6]\n",
    "values_arr = np.array(values)\n",
    "print(values_arr)"
   ]
  },
  {
   "cell_type": "markdown",
   "metadata": {},
   "source": [
    "### Selecting Odd Indices\n",
    "\n",
    "In this practice challenge, we ask you to create an ndarray from a given list and select the values located at odd indexes.\n",
    "\n",
    "values = [7, 4, 5, 8, 9, 0, 1, 3, 2, 6]"
   ]
  },
  {
   "cell_type": "code",
   "execution_count": 4,
   "metadata": {},
   "outputs": [
    {
     "name": "stdout",
     "output_type": "stream",
     "text": [
      "[4 8 0 3 6]\n"
     ]
    }
   ],
   "source": [
    "print(values_arr[1::2])"
   ]
  },
  {
   "cell_type": "markdown",
   "metadata": {},
   "source": [
    "### Reversing an Ndarray\n",
    "\n",
    "In this practice challenge, we ask you create an ndarray from a given list and to reverse the order of its values.\n",
    "\n",
    "values = [7, 4, 5, 8, 9, 0, 1, 3, 2, 6]"
   ]
  },
  {
   "cell_type": "code",
   "execution_count": 5,
   "metadata": {},
   "outputs": [
    {
     "name": "stdout",
     "output_type": "stream",
     "text": [
      "[6 2 3 1 0 9 8 5 4 7]\n"
     ]
    }
   ],
   "source": [
    "print(values_arr[::-1])"
   ]
  },
  {
   "cell_type": "markdown",
   "metadata": {},
   "source": [
    "### Getting the First Half\n",
    "\n",
    "Write a function first_half() that, given a 1-dimensional array, returns an ndarray that contains the first half of the provided ndarray. If the input ndarray has an odd number of elements, you should exclude the middle element.\n",
    "\n",
    "##### Testing Code\n",
    "x = np.array([1, 2, 3, 4])\n",
    "print(first_half(x))\n",
    "\n",
    "x = np.array([1, 2, 3, 4, 5])\n",
    "print(first_half(x))"
   ]
  },
  {
   "cell_type": "code",
   "execution_count": 12,
   "metadata": {},
   "outputs": [
    {
     "name": "stdout",
     "output_type": "stream",
     "text": [
      "[1 2]\n"
     ]
    }
   ],
   "source": [
    "def first_half(x):\n",
    "    '''\n",
    "    Returns an ndarray that contains the first half of the provided ndarray.\n",
    "    If the input ndarray has an odd number of elements, the middle element is excluded.\n",
    "    \n",
    "    Keyword arguments\n",
    "    x -- ndarray\n",
    "    '''\n",
    "    end_index = len(x)//2\n",
    "    first_half_arr = x[:end_index]\n",
    "    return first_half_arr\n",
    "\n",
    "x = np.array([1, 2, 3, 4, 5])\n",
    "print(first_half(x))\n"
   ]
  },
  {
   "cell_type": "markdown",
   "metadata": {},
   "source": [
    "### Getting the Second Half\n",
    "\n",
    "Write a function second_half() that, given a 1-dimensional array, returns an ndarray containing the second half of the provided ndarray. If the input ndarray has an odd number of elements, you should include the middle element.\n",
    "\n",
    "##### Testing Code\n",
    "x = np.array([1, 2, 3, 4])\n",
    "print(first_half(x))\n",
    "\n",
    "x = np.array([1, 2, 3, 4, 5])\n",
    "print(first_half(x))"
   ]
  },
  {
   "cell_type": "code",
   "execution_count": 15,
   "metadata": {},
   "outputs": [
    {
     "name": "stdout",
     "output_type": "stream",
     "text": [
      "[3 4 5]\n"
     ]
    }
   ],
   "source": [
    "def second_half(x):\n",
    "    '''\n",
    "    Returns an ndarray that contains the second half of the provided ndarray.\n",
    "    If the input ndarray has an odd number of elements, the middle element is included.\n",
    "    \n",
    "    Keyword arguments   \n",
    "    x -- ndarray\n",
    "    '''\n",
    "    start_index = len(x)//2\n",
    "    second_half_arr = x[start_index:]\n",
    "    return second_half_arr\n",
    "\n",
    "x = np.array([1, 2, 3, 4, 5])\n",
    "print(second_half(x))\n",
    "\n"
   ]
  },
  {
   "cell_type": "markdown",
   "metadata": {},
   "source": [
    "### Concatenating Ndarrays\n",
    "\n",
    "Use the np.concatenate() function to concatenate two ndarrays from the sequence below.\n",
    "\n",
    "values1 = [5, 7, 4, 6, 3, 9]\n",
    "values2 = [2, 1, 8, 0]"
   ]
  },
  {
   "cell_type": "code",
   "execution_count": 17,
   "metadata": {},
   "outputs": [
    {
     "name": "stdout",
     "output_type": "stream",
     "text": [
      "[5 7 4 6 3 9 2 1 8 0]\n"
     ]
    }
   ],
   "source": [
    "values1 = [5, 7, 4, 6, 3, 9] \n",
    "values2 = [2, 1, 8, 0]\n",
    "concatenated_arr = np.concatenate((values1, values2), axis=0)\n",
    "print(concatenated_arr)"
   ]
  },
  {
   "cell_type": "markdown",
   "metadata": {},
   "source": [
    "### Mixing Ndarrays\n",
    "\n",
    "Write a function mix() that, given two 1-dimensional arrays x and y, produces a new ndarray where:\n",
    "\n",
    "1. The first half of its values corresponds to the first half of x (excluding the middle element if x has an odd length).\n",
    "\n",
    "2. The second half of its values corresponds to the second half of y (including the middle element if y has an odd length).\n",
    "\n",
    "##### Testing Code\n",
    "x = np.array([1, 2, 3, 4, 5])\n",
    "y = np.array([6, 7, 8, 9, 10])\n",
    "z = mix(x, y)\n",
    "print(z)"
   ]
  },
  {
   "cell_type": "code",
   "execution_count": 22,
   "metadata": {},
   "outputs": [
    {
     "name": "stdout",
     "output_type": "stream",
     "text": [
      "[ 1  2  8  9 10]\n"
     ]
    }
   ],
   "source": [
    "def mix(x, y):\n",
    "    '''\n",
    "    Returns a concatenated ndarray that contains the first half of an ndarray x \n",
    "    and the second half of an nd array y.\n",
    "    \n",
    "    Keyword arguments\n",
    "    x -- an ndarray from which the first half will be extracted\n",
    "    y -- an ndarray from which the second half will be extracted\n",
    "    '''\n",
    "    final_arr = np.concatenate((first_half(x), second_half(y)), axis = 0)\n",
    "    return (final_arr)\n",
    "\n",
    "x = np.array([1, 2, 3, 4, 5]) \n",
    "y = np.array([6, 7, 8, 9, 10])\n",
    "z = mix(x, y)\n",
    "print(z)"
   ]
  },
  {
   "cell_type": "markdown",
   "metadata": {},
   "source": [
    "### Reverse and Skip\n",
    "\n",
    "In this practice challenge, we ask you to reverse the values of a 1-dimensional ndarray below while skipping every other value.\n",
    "\n",
    "For example, if the ndarray is [1 2 3 4 5 6 7] then you need to obtain [7 5 3 1].\n",
    "\n",
    "values = [7, 4, 5, 8, 9, 0, 1, 3, 2, 6]"
   ]
  },
  {
   "cell_type": "code",
   "execution_count": 24,
   "metadata": {},
   "outputs": [
    {
     "name": "stdout",
     "output_type": "stream",
     "text": [
      "[6 3 0 8 4]\n"
     ]
    }
   ],
   "source": [
    "print(values_arr[::-2])"
   ]
  },
  {
   "cell_type": "markdown",
   "metadata": {},
   "source": [
    "### Reversing a 2-D Array\n",
    "\n",
    "In this practice challenge we want you to reverse a 2-dimensional ndarray. In other words, we want to obtain an ndarray where both the rows and the columns are in reverse order.\n",
    "\n",
    "values = [\n",
    "    [5, 6, 5, 5, 8, 9, 9], \n",
    "    [9, 5, 1, 4, 5, 9, 7], \n",
    "    [3, 9, 6, 2, 1, 2, 3], \n",
    "    [1, 7, 6, 7, 1, 7, 5], \n",
    "    [2, 1, 3, 8, 7, 8, 8], \n",
    "    [2, 9, 3, 6, 4, 6, 4]\n",
    "]"
   ]
  },
  {
   "cell_type": "code",
   "execution_count": 36,
   "metadata": {},
   "outputs": [
    {
     "name": "stdout",
     "output_type": "stream",
     "text": [
      "[[5 6 5 5 8 9 9]\n",
      " [9 5 1 4 5 9 7]\n",
      " [3 9 6 2 1 2 3]\n",
      " [1 7 6 7 1 7 5]\n",
      " [2 1 3 8 7 8 8]\n",
      " [2 9 3 6 4 6 4]]\n",
      "[[4 6 4 6 3 9 2]\n",
      " [8 8 7 8 3 1 2]\n",
      " [5 7 1 7 6 7 1]\n",
      " [3 2 1 2 6 9 3]\n",
      " [7 9 5 4 1 5 9]\n",
      " [9 9 8 5 5 6 5]]\n"
     ]
    }
   ],
   "source": [
    "values = [ [5, 6, 5, 5, 8, 9, 9], [9, 5, 1, 4, 5, 9, 7], [3, 9, 6, 2, 1, 2, 3], [1, 7, 6, 7, 1, 7, 5], [2, 1, 3, 8, 7, 8, 8], [2, 9, 3, 6, 4, 6, 4] ]\n",
    "values2d_arr = np.array(values)\n",
    "print(values2d_arr)\n",
    "rev_values2d_arr = np.flip(values2d_arr)\n",
    "print(rev_values2d_arr)"
   ]
  },
  {
   "cell_type": "markdown",
   "metadata": {},
   "source": [
    "### Row Selection\n",
    "\n",
    "In this practice challenge, you'll write a function select_rows() that given a 2-dimensional array and a list of row indexes, returns a 2-dimensional array consisting only of those rows.\n",
    "\n",
    "##### Testing Code\n",
    "x = np.array([[ 1,  2,  3,  4], [ 5,  6,  7,  8], [ 9, 10, 11, 12], [13, 14, 15, 16], [17, 18, 19, 20]])\n",
    "rows_1_4_3 = select_rows(x, [1, 4, 3])\n",
    "print(rows_1_4_3)"
   ]
  },
  {
   "cell_type": "code",
   "execution_count": 40,
   "metadata": {},
   "outputs": [
    {
     "name": "stdout",
     "output_type": "stream",
     "text": [
      "[[ 5  6  7  8]\n",
      " [17 18 19 20]\n",
      " [13 14 15 16]]\n"
     ]
    }
   ],
   "source": [
    "def select_rows(x, a):\n",
    "    '''\n",
    "    Returns a 2-dimensional array consisting of selected rows from a 2d array\n",
    "\n",
    "    Keyword arguments\n",
    "    x -- a 2d array\n",
    "    a -- a list containing row indexes\n",
    "    '''\n",
    "    sliced_rows = []\n",
    "    for i in a:\n",
    "        sliced_rows.append(x[i])\n",
    "    return np.array(sliced_rows)\n",
    "\n",
    "x = np.array([[ 1,  2,  3,  4], [ 5,  6,  7,  8], [ 9, 10, 11, 12], [13, 14, 15, 16], [17, 18, 19, 20]])\n",
    "rows_1_4_3 = select_rows(x, [1, 4, 3])\n",
    "print(rows_1_4_3)\n",
    "\n"
   ]
  },
  {
   "cell_type": "markdown",
   "metadata": {},
   "source": [
    "### Column Selection\n",
    "\n",
    "In this practice challenge, you'll write a function select_columns() that given a 2-dimensional array and a list of column indexes, returns a 2-dimensional array consisting only of those columns.\n",
    "\n",
    "##### Testing Code\n",
    "\n",
    "x = np.array([[ 1,  2,  3,  4], [ 5,  6,  7,  8], [ 9, 10, 11, 12], [13, 14, 15, 16], [17, 18, 19, 20]])\n",
    "cols_3_0 = select_columns(x, [3, 0])\n",
    "print(cols_3_0)"
   ]
  },
  {
   "cell_type": "code",
   "execution_count": 112,
   "metadata": {},
   "outputs": [
    {
     "name": "stdout",
     "output_type": "stream",
     "text": [
      "[[ 4  1]\n",
      " [ 8  5]\n",
      " [12  9]\n",
      " [16 13]\n",
      " [20 17]]\n"
     ]
    }
   ],
   "source": [
    "def select_columns(x, a):\n",
    "    '''\n",
    "    Returns a 2d array of a selected columns from a larger 2d array\n",
    "\n",
    "    Keyword arguments\n",
    "    x -- 2d array from which slicing is done\n",
    "    a -- a list of column indexes\n",
    "    '''\n",
    "    sliced_columns = []\n",
    "    for i in a:\n",
    "        sliced_columns.append(x[:, i:i+1])\n",
    "    return np.hstack(sliced_columns)\n",
    "\n",
    "x = np.array([[ 1, 2, 3, 4], [ 5, 6, 7, 8], [ 9, 10, 11, 12], [13, 14, 15, 16], [17, 18, 19, 20]])\n",
    "cols_3_0 = select_columns(x, [3, 0]) \n",
    "print(cols_3_0)"
   ]
  },
  {
   "cell_type": "markdown",
   "metadata": {},
   "source": [
    "### Row Copies\n",
    "\n",
    "In this practice challenge, you'll write a function copy_row_k_times() that given a 2-dimensional array, a row index row_index and a positive integer num_copies, creates a ndarray containing num_copies copies of row index row_index.\n",
    "See the following example for clarity:\n",
    "\n",
    "x = np.array([\n",
    "    [ 1,  2,  3,  4], \n",
    "    [ 5,  6,  7,  8], \n",
    "    [ 9, 10, 11, 12]\n",
    "])\n",
    "row_k_times = copy_row_k_times(x, 1, 4)\n",
    "print(row_k_times)\n",
    "\n",
    "[[5 6 7 8]\n",
    " [5 6 7 8]\n",
    " [5 6 7 8]\n",
    " [5 6 7 8]]\n",
    " \n",
    "As you can see, this function created 4 copies for the row from x that has with index 1\n",
    "\n",
    "##### Testing code\n",
    "\n",
    "x = np.array([[ 1,  2,  3,  4], [ 5,  6,  7,  8], [ 9, 10, 11, 12]])\n",
    "row_k_times = copy_row_k_times(x, 1, 4)\n",
    "print(row_k_times)"
   ]
  },
  {
   "cell_type": "code",
   "execution_count": 122,
   "metadata": {},
   "outputs": [
    {
     "name": "stdout",
     "output_type": "stream",
     "text": [
      "[[5 6 7 8]\n",
      " [5 6 7 8]\n",
      " [5 6 7 8]\n",
      " [5 6 7 8]]\n"
     ]
    }
   ],
   "source": [
    "def copy_row_k_times(x, y, z):\n",
    "    '''\n",
    "    Returns an ndarray containing copies of a sliced row from a parent array\n",
    "\n",
    "    Keyword arguments\n",
    "    x -- parent array\n",
    "    y -- row index\n",
    "    z -- a positive integer representing the number of copies of the row\n",
    "    '''\n",
    "    sliced_row = x[y]\n",
    "    repititions = 4\n",
    "    final_array = np.tile(sliced_row, (repititions, 1))\n",
    "    return final_array\n",
    "    \n",
    "x = np.array([[ 1,  2,  3,  4], [ 5,  6,  7,  8], [ 9, 10, 11, 12]])\n",
    "row_k_times = copy_row_k_times(x, 1, 4)\n",
    "print(row_k_times)\n"
   ]
  },
  {
   "cell_type": "markdown",
   "metadata": {},
   "source": [
    "### Selecting from a 2-D Array 1\n",
    "\n",
    "In this practice challenge, we want you to select the entries highlighted in green of a 2-dimensional array.\n",
    "\n",
    "![Image1](https://drive.google.com/file/d/1ujphPiOUtAZO73wzTidYcS7HCBBqNlBo/view?usp=sharing)\n",
    "\n",
    "array2d = np.array([\n",
    "    [ 1,  2,  3,  4,  5],\n",
    "    [ 6,  7,  8,  9, 10],\n",
    "    [11, 12, 13, 14, 15],\n",
    "    [16, 17, 18, 19, 20],\n",
    "])"
   ]
  },
  {
   "cell_type": "code",
   "execution_count": 133,
   "metadata": {},
   "outputs": [
    {
     "name": "stdout",
     "output_type": "stream",
     "text": [
      "x =\n",
      "[[ 2  3]\n",
      " [ 7  8]\n",
      " [12 13]\n",
      " [17 18]]\n",
      "------------------------------\n",
      "y =\n",
      "[[ 1  2  3  4  5]\n",
      " [11 12 13 14 15]]\n",
      "------------------------------\n",
      "z =\n",
      "[12 13 14]\n"
     ]
    }
   ],
   "source": [
    "array2d = np.array([\n",
    "    [ 1,  2,  3,  4,  5],\n",
    "    [ 6,  7,  8,  9, 10],\n",
    "    [11, 12, 13, 14, 15],\n",
    "    [16, 17, 18, 19, 20],\n",
    "])\n",
    "\n",
    "x = select_columns(array2d, [1, 2])\n",
    "print('x =')\n",
    "print(x)\n",
    "\n",
    "print('------------------------------')\n",
    "y = select_rows(array2d, [0, 2])\n",
    "print('y =')\n",
    "print(y)\n",
    "\n",
    "print('------------------------------')\n",
    "print('z =')\n",
    "z = array2d[2][1:-1]\n",
    "print(z)"
   ]
  },
  {
   "cell_type": "markdown",
   "metadata": {},
   "source": [
    "### Selecting from a 2-D Array 2\n",
    "\n",
    "In this practice challenge, we want you to select the entries highlighted in green of a 2-dimensional array.\n",
    "\n",
    "![Image2](https://drive.google.com/file/d/1GTFFw9vCSCPvR85sROK3pKtsh3tgzfDC/view?usp=sharing)\n",
    "\n",
    "array2d = np.array([\n",
    "    [ 1,  2,  3,  4,  5],\n",
    "    [ 6,  7,  8,  9, 10],\n",
    "    [11, 12, 13, 14, 15],\n",
    "    [16, 17, 18, 19, 20],\n",
    "])\n"
   ]
  },
  {
   "cell_type": "code",
   "execution_count": 145,
   "metadata": {},
   "outputs": [
    {
     "name": "stdout",
     "output_type": "stream",
     "text": [
      "[[ 1  2  3  4  5]\n",
      " [ 6  7  8  9 10]\n",
      " [11 12 13 14 15]\n",
      " [16 17 18 19 20]]\n",
      "x =\n",
      "[[ 6  8 10]\n",
      " [16 18 20]]\n",
      "------------------------------\n",
      "y =\n",
      "[[ 2  4]\n",
      " [12 14]]\n",
      "------------------------------\n",
      "z =\n",
      "[[ 2  3  4]\n",
      " [12 13 14]]\n"
     ]
    }
   ],
   "source": [
    "array2d = np.array([\n",
    "    [ 1,  2,  3,  4,  5],\n",
    "    [ 6,  7,  8,  9, 10],\n",
    "    [11, 12, 13, 14, 15],\n",
    "    [16, 17, 18, 19, 20],\n",
    "])\n",
    "\n",
    "print(array2d)\n",
    "sliced_arr = select_columns(array2d, [0, 2, 4])\n",
    "x = select_rows(sliced_arr, [1, 3])\n",
    "print('x =')\n",
    "print(x)\n",
    "\n",
    "print('------------------------------')\n",
    "sliced_arr = select_columns(array2d, [1, 3])\n",
    "y = select_rows(sliced_arr, [0, 2])\n",
    "print('y =')\n",
    "print(y)\n",
    "\n",
    "print('------------------------------')\n",
    "print('z =')\n",
    "sliced_arr = select_columns(array2d, [1, 2, 3])\n",
    "z = select_rows(sliced_arr, [0, 2])\n",
    "print(z)"
   ]
  },
  {
   "cell_type": "markdown",
   "metadata": {},
   "source": [
    "### Selecting from a 2-D Array 3\n",
    "\n",
    "In this practice challenge, we want you to select the entries highlighted in green of a 2-dimensional array.\n",
    "\n",
    "![Image3](https://drive.google.com/file/d/1Gq6flsy7oFWysmApTfqAjfNasLBNMbr9/view?usp=sharing)\n",
    "\n",
    "array2d = np.array([\n",
    "    [ 1,  2,  3,  4,  5],\n",
    "    [ 6,  7,  8,  9, 10],\n",
    "    [11, 12, 13, 14, 15],\n",
    "    [16, 17, 18, 19, 20],\n",
    "])\n"
   ]
  },
  {
   "cell_type": "code",
   "execution_count": 149,
   "metadata": {},
   "outputs": [
    {
     "name": "stdout",
     "output_type": "stream",
     "text": [
      "x =\n",
      "[[ 3  4  5]\n",
      " [ 8  9 10]\n",
      " [13 14 15]\n",
      " [18 19 20]]\n",
      "------------------------------\n",
      "y =\n",
      "[[ 7  8  9 10]\n",
      " [12 13 14 15]\n",
      " [17 18 19 20]]\n",
      "------------------------------\n",
      "z =\n",
      "[[ 2  3  4  5]\n",
      " [ 7  8  9 10]\n",
      " [12 13 14 15]]\n"
     ]
    }
   ],
   "source": [
    "array2d = np.array([\n",
    "    [ 1,  2,  3,  4,  5],\n",
    "    [ 6,  7,  8,  9, 10],\n",
    "    [11, 12, 13, 14, 15],\n",
    "    [16, 17, 18, 19, 20],\n",
    "])\n",
    "\n",
    "x = array2d[:, 2:]\n",
    "print('x =')\n",
    "print(x)\n",
    "print('------------------------------')\n",
    "\n",
    "sliced_arr = array2d[:, 1:]\n",
    "y = select_rows(sliced_arr, range(1, 4))\n",
    "print('y =')\n",
    "print(y)\n",
    "print('------------------------------')\n",
    "\n",
    "sliced_arr = array2d[:, 1:]\n",
    "z = select_rows(sliced_arr, range(0,3))\n",
    "print('z =')\n",
    "print(z)\n"
   ]
  },
  {
   "cell_type": "markdown",
   "metadata": {},
   "source": [
    "### Swapping Rows\n",
    "\n",
    "In this practice challenge, we want you to write a function swap_rows() that given a 2-dimensional array and two row indexes, swaps those two rows.\n",
    "\n",
    "Example:\n",
    "\n",
    "x = np.array([\n",
    "    [1,  2,  3,  4],\n",
    "    [5,  6,  7,  8],\n",
    "    [9, 10, 11, 12]\n",
    "])\n",
    "swap_rows(x, 0, 1)\n",
    "print(x)\n",
    "\n",
    "[[ 5  6  7  8]\n",
    " [ 1  2  3  4]\n",
    " [ 9 10 11 12]]\n",
    " \n",
    " Note that the function does not return anything, it modifies the given ndarray directly.\n",
    " \n",
    " ##### Testing Code\n",
    " \n",
    " x = np.array([[1,  2,  3,  4], [5,  6,  7,  8], [9, 10, 11, 12]])\n",
    "swap_rows(x, 0, 2)\n",
    "print(x)"
   ]
  },
  {
   "cell_type": "code",
   "execution_count": 151,
   "metadata": {},
   "outputs": [
    {
     "name": "stdout",
     "output_type": "stream",
     "text": [
      "[[ 9 10 11 12]\n",
      " [ 5  6  7  8]\n",
      " [ 1  2  3  4]]\n"
     ]
    }
   ],
   "source": [
    "def swap_rows(x, y, z):\n",
    "    '''\n",
    "    Returns a swapped rows of a 2d array\n",
    "\n",
    "    Keyword arguments\n",
    "    x -- 2d array \n",
    "    y -- positive integer representing the index of the row to be swapped\n",
    "    z -- positive integer representing the index of the row to be swapped\n",
    "    '''\n",
    "    copy_x = x.copy()\n",
    "    x[y] = copy_x[z]\n",
    "    x[z] = copy_x[y]\n",
    "    return x\n",
    "\n",
    "x = np.array([[1, 2, 3, 4], [5, 6, 7, 8], [9, 10, 11, 12]])\n",
    "x = swap_rows(x, 0, 2)\n",
    "print(x)"
   ]
  },
  {
   "cell_type": "markdown",
   "metadata": {},
   "source": [
    "### Swapping Columns\n",
    "\n",
    "In this practice challenge, we want you to write a function swap_cols() that given a 2-dimensional array and two column indexes, swaps those two columns.\n",
    "\n",
    "Example:\n",
    "\n",
    "x = np.array([\n",
    "    [1,  2,  3,  4],\n",
    "    [5,  6,  7,  8],\n",
    "    [9, 10, 11, 12]\n",
    "])\n",
    "swap_cols(x, 0, 1)\n",
    "print(x)\n",
    "\n",
    "[[ 2  1  3  4]\n",
    " [ 6  5  7  8]\n",
    " [10  9 11 12]]\n",
    " \n",
    "Note that the function does not return anything, it modifies the given ndarray directly.\n",
    "\n",
    "##### Testing Code\n",
    "\n",
    "x = np.array([[1,  2,  3,  4], [5,  6,  7,  8], [9, 10, 11, 12]])\n",
    "swap_cols(x, 0, 1)\n",
    "print(x)\n"
   ]
  },
  {
   "cell_type": "code",
   "execution_count": 155,
   "metadata": {},
   "outputs": [
    {
     "name": "stdout",
     "output_type": "stream",
     "text": [
      "[[ 2  1  3  4]\n",
      " [ 6  5  7  8]\n",
      " [10  9 11 12]]\n"
     ]
    }
   ],
   "source": [
    "def swap_cols(x, y, z):\n",
    "    '''\n",
    "    Returns a swapped rows of a 2d array\n",
    "\n",
    "    Keyword arguments\n",
    "    x -- 2d array \n",
    "    y -- positive integer representing the index of the column to be swapped\n",
    "    z -- positive integer representing the index of the column to be swapped\n",
    "    '''\n",
    "    copy_x = x.copy()\n",
    "    x[:,y:y+1] = copy_x[:, z:z+1]\n",
    "    x[:,z:z+1] = copy_x[:, y:y+1]\n",
    "    return x\n",
    "\n",
    "x = np.array([[1, 2, 3, 4], [5, 6, 7, 8], [9, 10, 11, 12]])\n",
    "x = swap_cols(x, 0, 1)\n",
    "print(x)"
   ]
  },
  {
   "cell_type": "code",
   "execution_count": null,
   "metadata": {},
   "outputs": [],
   "source": []
  }
 ],
 "metadata": {
  "kernelspec": {
   "display_name": "Python 3",
   "language": "python",
   "name": "python3"
  },
  "language_info": {
   "codemirror_mode": {
    "name": "ipython",
    "version": 3
   },
   "file_extension": ".py",
   "mimetype": "text/x-python",
   "name": "python",
   "nbconvert_exporter": "python",
   "pygments_lexer": "ipython3",
   "version": "3.8.3"
  }
 },
 "nbformat": 4,
 "nbformat_minor": 4
}
